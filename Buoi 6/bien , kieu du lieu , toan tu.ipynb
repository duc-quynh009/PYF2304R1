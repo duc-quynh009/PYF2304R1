{
 "cells": [
  {
   "attachments": {},
   "cell_type": "markdown",
   "id": "bce2da13",
   "metadata": {},
   "source": [
    "\n"
   ]
  },
  {
   "cell_type": "code",
   "execution_count": 14,
   "id": "1fdfb5c4",
   "metadata": {},
   "outputs": [
    {
     "name": "stdout",
     "output_type": "stream",
     "text": [
      "6.0\n",
      "False\n",
      "True\n",
      "False\n"
     ]
    }
   ],
   "source": [
    "t = 5\n",
    "l = 6\n",
    "h = 7\n",
    "tb = (t+l+h)/3\n",
    "print(tb)\n",
    "print(tb >= 8)\n",
    "print(6>= tb <8 )\n",
    "print(tb<6)"
   ]
  },
  {
   "cell_type": "code",
   "execution_count": 15,
   "id": "ffe6f726",
   "metadata": {},
   "outputs": [
    {
     "name": "stdout",
     "output_type": "stream",
     "text": [
      "Chương trình tính điểm trung bình của học sinh\n",
      "Nhập điểm môn toán: \n",
      "5\n",
      "Nhập điểm môn Lý: \n",
      "6\n",
      "Nhập điểm môn Hóa: \n",
      "7\n",
      "Nhập điểm môn Văn: \n",
      "8\n",
      "Nhập điểm môn Anh: \n",
      "9\n",
      "Điểm trung bình là:  7.0\n",
      "Học lực khá\n"
     ]
    }
   ],
   "source": [
    "\"\"\"\n",
    "HỌC PYTHON TẠI FREETUTS.NET\n",
    "AUTHOR: CƯỜNG NGUYỄN\n",
    "\"\"\"\n",
    " \n",
    "print(\"Chương trình tính điểm trung bình của học sinh\")\n",
    " \n",
    "toan = 0; ly = 0; hoa = 0; van = 0; anh = 0\n",
    " \n",
    "def nhap_diem():\n",
    "    \"\"\"Hàm yêu cầu nhập điểm và trả về giá trị trung bình\"\"\"\n",
    "    # Bước 1: Nhập dữ liệu\n",
    "    print(\"Nhập điểm môn toán: \")\n",
    "    toan = float(input())\n",
    " \n",
    "    print(\"Nhập điểm môn Lý: \")\n",
    "    ly = float(input())\n",
    " \n",
    "    print(\"Nhập điểm môn Hóa: \")\n",
    "    hoa = float(input())\n",
    " \n",
    "    print(\"Nhập điểm môn Văn: \")\n",
    "    van = float(input())\n",
    " \n",
    "    print(\"Nhập điểm môn Anh: \")\n",
    "    anh = float(input())\n",
    " \n",
    "    # Bước 2: Tính điểm trung bình\n",
    "    trungbinh = (toan + ly + hoa + van + anh) / 5\n",
    " \n",
    "    return trungbinh\n",
    " \n",
    " \n",
    "def in_ket_qua(diem):\n",
    "    \"\"\"Hàm in kết quả lên màn hình\"\"\"\n",
    "    print(\"Điểm trung bình là: \", trungbinh)\n",
    "    if (diem < 5):\n",
    "        print(\"Học lực yếu\");\n",
    "    elif (diem >= 5 and diem < 7):\n",
    "        print(\"Học lực trung bình\")\n",
    "    elif (diem >= 7 and diem < 9):\n",
    "        print(\"Học lực khá\")\n",
    "    elif (diem >= 9):\n",
    "        print(\"Học lực giỏi\")\n",
    " \n",
    " \n",
    "# Sử dụng hàm\n",
    "trungbinh = nhap_diem()\n",
    "in_ket_qua(trungbinh)"
   ]
  },
  {
   "cell_type": "code",
   "execution_count": 24,
   "id": "b21e89e2",
   "metadata": {},
   "outputs": [
    {
     "name": "stdout",
     "output_type": "stream",
     "text": [
      "True\n"
     ]
    }
   ],
   "source": [
    "take_part_in_class = 80\n",
    "compete_learn = 81\n",
    "final_exam_mark = 7.5\n",
    "print(take_part_in_class>75 and compete_learn>80 and final_exam_mark >= 7.5)"
   ]
  },
  {
   "attachments": {
    "image.png": {
     "image/png": "[encoded data removed]"
    }
   },
   "cell_type": "markdown",
   "id": "5aa338aa",
   "metadata": {},
   "source": [
    "#bai 3 ![image.png](attachment:image.png)\n"
   ]
  },
  {
   "cell_type": "code",
   "execution_count": 35,
   "id": "04865ac2",
   "metadata": {},
   "outputs": [
    {
     "name": "stdout",
     "output_type": "stream",
     "text": [
      "0.75\n",
      "3.0\n",
      "9.0\n",
      "0.631578947368421\n"
     ]
    }
   ],
   "source": [
    "hour_a_to_B = 36/48\n",
    "print(hour_a_to_B)\n",
    "veloc_a_to_B_and_b_c = 36/12\n",
    "print(veloc_a_to_B_and_b_c)\n",
    "distance_b_to_c= 12  * 0.75\n",
    "print(distance_b_to_c)\n",
    "hour_a_to_b_catch_b_to_C = 36 /(48 + distance_b_to_c )\n",
    "print(hour_a_to_b_catch_b_to_C)\n"
   ]
  }
 ],
 "metadata": {
  "kernelspec": {
   "display_name": "Python 3 (ipykernel)",
   "language": "python",
   "name": "python3"
  },
  "language_info": {
   "codemirror_mode": {
    "name": "ipython",
    "version": 3
   },
   "file_extension": ".py",
   "mimetype": "text/x-python",
   "name": "python",
   "nbconvert_exporter": "python",
   "pygments_lexer": "ipython3",
   "version": "3.11.3"
  }
 },
 "nbformat": 4,
 "nbformat_minor": 5
}
